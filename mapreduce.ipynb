{
 "cells": [
  {
   "cell_type": "code",
   "execution_count": 16,
   "metadata": {
    "collapsed": false
   },
   "outputs": [],
   "source": [
    "import string\n",
    "def input_reader(namefile): # function that opens the file and divides it in lines\n",
    "    f=open(namefile,'r')\n",
    "    lines=[]\n",
    "    for line in f: # this spots the \\n characters and splits the file like that\n",
    "        line2=line.translate(str.maketrans(string.punctuation + \"’»«\",\"                                   \"))\n",
    "        #this line replaces punctuation with a space character\n",
    "        lines.append(line2.lower())\n",
    "    return lines"
   ]
  },
  {
   "cell_type": "code",
   "execution_count": 17,
   "metadata": {
    "collapsed": true
   },
   "outputs": [],
   "source": [
    "def map1(lines): #map function\n",
    "    # lines is a list of strings representing a line in the text file\n",
    "    map_result=[]\n",
    "    for line in lines: # loop that takes each word in each line, and that gives each word a key=1\n",
    "        tmp_line=[]\n",
    "        words=line.split() # splits each line in words (the separator is a blank space)\n",
    "        for word in words: # associates key 1 to each word and puts the result for each line in tmp_line\n",
    "            tmp_line.append((word,1))\n",
    "        map_result.append(tmp_line) # makes the result out of tmp_lines\n",
    "    return map_result"
   ]
  },
  {
   "cell_type": "code",
   "execution_count": 18,
   "metadata": {
    "collapsed": true
   },
   "outputs": [],
   "source": [
    "def flattenlist(list): # flattens a list of lists : for shuffleandsort's use\n",
    "    res=[]\n",
    "    for l in list:\n",
    "        for thing in l:\n",
    "            res.append(thing)\n",
    "    return res"
   ]
  },
  {
   "cell_type": "code",
   "execution_count": 19,
   "metadata": {
    "collapsed": false
   },
   "outputs": [],
   "source": [
    "def shuffleandsort (map_result): # shuffle and sort function\n",
    "    # parameter map_result is a list of list corresponding to each line's words and the associated key 1\n",
    "    flatlist=flattenlist(map_result)\n",
    "    shuffled_sorted_list=[] \n",
    "    for (word,key) in flatlist : \n",
    "        n= len(shuffled_sorted_list)\n",
    "        i=0\n",
    "        while  i<n: # imbricated loop in which each word of the flatlist is confronted to each word of the list in progress\n",
    "                    # if the word is found in the list than its key is appended to the list of keys of the already existing word\n",
    "                    # if the word is nowhere to be found, than the it's added to the list in progress, along with its key\n",
    "                w,l=shuffled_sorted_list[i]\n",
    "                if word == w:\n",
    "                    l.append(key)\n",
    "                    break\n",
    "                i+=1\n",
    "        if i==n :\n",
    "            shuffled_sorted_list.append((word,[key]))\n",
    "    return shuffled_sorted_list\n"
   ]
  },
  {
   "cell_type": "code",
   "execution_count": 20,
   "metadata": {
    "collapsed": true
   },
   "outputs": [],
   "source": [
    "def reduce(shuffled_sorted_list): \n",
    "    # shuffled_sorted_list is a list of pairs made of one word and one list of keys associated to this word\n",
    "    f = open('workfile.txt', 'w') # creates a text file\n",
    "    for (word,occ) in shuffled_sorted_list: #loop that sums the keys of each words and writes the word and this sum into the crated text file\n",
    "        sum1=sum(occ)\n",
    "        f.write(word + \" \" +str(sum1)+\"\\n\")"
   ]
  },
  {
   "cell_type": "code",
   "execution_count": 21,
   "metadata": {
    "collapsed": true
   },
   "outputs": [],
   "source": [
    "def mapreduce(namefile): # final function\n",
    "    reduce(shuffleandsort(map1(input_reader(namefile))))"
   ]
  },
  {
   "cell_type": "code",
   "execution_count": 22,
   "metadata": {
    "collapsed": false
   },
   "outputs": [],
   "source": [
    "mapreduce(\"incipit.txt\")"
   ]
  }
 ],
 "metadata": {
  "anaconda-cloud": {},
  "kernelspec": {
   "display_name": "Python [Root]",
   "language": "python",
   "name": "Python [Root]"
  },
  "language_info": {
   "codemirror_mode": {
    "name": "ipython",
    "version": 3
   },
   "file_extension": ".py",
   "mimetype": "text/x-python",
   "name": "python",
   "nbconvert_exporter": "python",
   "pygments_lexer": "ipython3",
   "version": "3.5.2"
  }
 },
 "nbformat": 4,
 "nbformat_minor": 0
}
